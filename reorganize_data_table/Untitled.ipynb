{
 "cells": [
  {
   "cell_type": "code",
   "execution_count": 1,
   "metadata": {},
   "outputs": [
    {
     "ename": "NameError",
     "evalue": "name 'pd' is not defined",
     "output_type": "error",
     "traceback": [
      "\u001b[1;31m---------------------------------------------------------------------------\u001b[0m",
      "\u001b[1;31mNameError\u001b[0m                                 Traceback (most recent call last)",
      "\u001b[1;32m<ipython-input-1-2019424fe066>\u001b[0m in \u001b[0;36m<module>\u001b[1;34m\u001b[0m\n\u001b[1;32m----> 1\u001b[1;33m \u001b[0mpd\u001b[0m\u001b[1;33m.\u001b[0m\u001b[0mmerge\u001b[0m\u001b[1;33m(\u001b[0m\u001b[0mm_BURU\u001b[0m\u001b[1;33m,\u001b[0m \u001b[0mm_HWU\u001b[0m\u001b[1;33m,\u001b[0m \u001b[0mon\u001b[0m\u001b[1;33m=\u001b[0m\u001b[1;34m'UsageKey'\u001b[0m\u001b[1;33m)\u001b[0m\u001b[1;33m.\u001b[0m\u001b[0mfilter\u001b[0m\u001b[1;33m(\u001b[0m\u001b[0mitems\u001b[0m\u001b[1;33m=\u001b[0m\u001b[1;33m[\u001b[0m\u001b[1;34m'UsageKey'\u001b[0m\u001b[1;33m,\u001b[0m \u001b[1;34m'BuildingName'\u001b[0m\u001b[1;33m,\u001b[0m \u001b[1;34m'RoomName'\u001b[0m\u001b[1;33m,\u001b[0m \u001b[1;34m'Standard'\u001b[0m\u001b[1;33m,\u001b[0m \u001b[1;34m'WashRoom'\u001b[0m\u001b[1;33m,\u001b[0m \u001b[1;34m'ShowerRoom'\u001b[0m\u001b[1;33m,\u001b[0m \u001b[1;34m'Kitchen'\u001b[0m\u001b[1;33m,\u001b[0m \u001b[1;34m'Other'\u001b[0m\u001b[1;33m,\u001b[0m \u001b[1;34m'Unit'\u001b[0m\u001b[1;33m,\u001b[0m \u001b[1;34m'Density'\u001b[0m\u001b[1;33m]\u001b[0m\u001b[1;33m)\u001b[0m\u001b[1;33m\u001b[0m\u001b[1;33m\u001b[0m\u001b[0m\n\u001b[0m",
      "\u001b[1;31mNameError\u001b[0m: name 'pd' is not defined"
     ]
    }
   ],
   "source": [
    "pd.merge(m_BURU, m_HWU, on='UsageKey').filter(items=['UsageKey', 'BuildingName', 'RoomName', 'Standard', 'WashRoom', 'ShowerRoom', 'Kitchen', 'Other', 'Unit', 'Density'])"
   ]
  },
  {
   "cell_type": "code",
   "execution_count": null,
   "metadata": {},
   "outputs": [],
   "source": []
  }
 ],
 "metadata": {
  "kernelspec": {
   "display_name": "Python 3",
   "language": "python",
   "name": "python3"
  },
  "language_info": {
   "codemirror_mode": {
    "name": "ipython",
    "version": 3
   },
   "file_extension": ".py",
   "mimetype": "text/x-python",
   "name": "python",
   "nbconvert_exporter": "python",
   "pygments_lexer": "ipython3",
   "version": "3.7.6"
  }
 },
 "nbformat": 4,
 "nbformat_minor": 4
}
