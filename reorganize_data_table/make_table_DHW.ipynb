{
 "cells": [
  {
   "cell_type": "code",
   "execution_count": 1,
   "metadata": {},
   "outputs": [],
   "source": [
    "import pandas as pd"
   ]
  },
  {
   "cell_type": "code",
   "execution_count": 2,
   "metadata": {},
   "outputs": [],
   "source": [
    "from master_tables import MasterTables"
   ]
  },
  {
   "cell_type": "markdown",
   "metadata": {},
   "source": [
    "# 給湯設備"
   ]
  },
  {
   "cell_type": "markdown",
   "metadata": {},
   "source": [
    "## マスタテーブルの読み込み"
   ]
  },
  {
   "cell_type": "code",
   "execution_count": 3,
   "metadata": {},
   "outputs": [],
   "source": [
    "mts = MasterTables.read()"
   ]
  },
  {
   "cell_type": "markdown",
   "metadata": {},
   "source": [
    "## 付録F 表1"
   ]
  },
  {
   "cell_type": "markdown",
   "metadata": {},
   "source": [
    "単位が「L / m<sup>2</sup> d」の場合の密度は、給湯においては使用しないため、値を「-」に置き換える。また、「-」を許容するため、データ型をfloat型からstr型に変更する。"
   ]
  },
  {
   "cell_type": "code",
   "execution_count": 4,
   "metadata": {},
   "outputs": [
    {
     "data": {
      "text/html": [
       "<div>\n",
       "<style scoped>\n",
       "    .dataframe tbody tr th:only-of-type {\n",
       "        vertical-align: middle;\n",
       "    }\n",
       "\n",
       "    .dataframe tbody tr th {\n",
       "        vertical-align: top;\n",
       "    }\n",
       "\n",
       "    .dataframe thead th {\n",
       "        text-align: right;\n",
       "    }\n",
       "</style>\n",
       "<table border=\"1\" class=\"dataframe\">\n",
       "  <thead>\n",
       "    <tr style=\"text-align: right;\">\n",
       "      <th></th>\n",
       "      <th>UsageKey</th>\n",
       "      <th>Density</th>\n",
       "      <th>Standard</th>\n",
       "      <th>Unit</th>\n",
       "      <th>WashRoom</th>\n",
       "      <th>ShowerRoom</th>\n",
       "      <th>Kitchen</th>\n",
       "      <th>Other</th>\n",
       "    </tr>\n",
       "  </thead>\n",
       "  <tbody>\n",
       "    <tr>\n",
       "      <th>0</th>\n",
       "      <td>O-1</td>\n",
       "      <td>0.1</td>\n",
       "      <td>3.8</td>\n",
       "      <td>L/人日</td>\n",
       "      <td>3.8</td>\n",
       "      <td>0.0</td>\n",
       "      <td>0.0</td>\n",
       "      <td>0.0</td>\n",
       "    </tr>\n",
       "    <tr>\n",
       "      <th>1</th>\n",
       "      <td>O-2</td>\n",
       "      <td>0.1</td>\n",
       "      <td>3.8</td>\n",
       "      <td>L/人日</td>\n",
       "      <td>3.8</td>\n",
       "      <td>0.0</td>\n",
       "      <td>0.0</td>\n",
       "      <td>0.0</td>\n",
       "    </tr>\n",
       "    <tr>\n",
       "      <th>2</th>\n",
       "      <td>O-3</td>\n",
       "      <td>0.25</td>\n",
       "      <td>3.8</td>\n",
       "      <td>L/人日</td>\n",
       "      <td>3.8</td>\n",
       "      <td>0.0</td>\n",
       "      <td>0.0</td>\n",
       "      <td>0.0</td>\n",
       "    </tr>\n",
       "    <tr>\n",
       "      <th>3</th>\n",
       "      <td>O-4</td>\n",
       "      <td>－</td>\n",
       "      <td>32.0</td>\n",
       "      <td>L/m2日</td>\n",
       "      <td>0.0</td>\n",
       "      <td>0.0</td>\n",
       "      <td>32.0</td>\n",
       "      <td>0.0</td>\n",
       "    </tr>\n",
       "    <tr>\n",
       "      <th>4</th>\n",
       "      <td>O-5</td>\n",
       "      <td>－</td>\n",
       "      <td>48.0</td>\n",
       "      <td>L/m2日</td>\n",
       "      <td>0.0</td>\n",
       "      <td>0.0</td>\n",
       "      <td>48.0</td>\n",
       "      <td>0.0</td>\n",
       "    </tr>\n",
       "  </tbody>\n",
       "</table>\n",
       "</div>"
      ],
      "text/plain": [
       "  UsageKey Density  Standard   Unit  WashRoom  ShowerRoom  Kitchen  Other\n",
       "0      O-1     0.1       3.8   L/人日       3.8         0.0      0.0    0.0\n",
       "1      O-2     0.1       3.8   L/人日       3.8         0.0      0.0    0.0\n",
       "2      O-3    0.25       3.8   L/人日       3.8         0.0      0.0    0.0\n",
       "3      O-4       －      32.0  L/m2日       0.0         0.0     32.0    0.0\n",
       "4      O-5       －      48.0  L/m2日       0.0         0.0     48.0    0.0"
      ]
     },
     "execution_count": 4,
     "metadata": {},
     "output_type": "execute_result"
    }
   ],
   "source": [
    "t =  mts.m_HWU.astype({'Density': str})\n",
    "t.loc[mts.m_HWU.Unit == 'L/m2日', 'Density'] = '－'\n",
    "t.head()"
   ]
  },
  {
   "cell_type": "markdown",
   "metadata": {},
   "source": [
    "'Standard'「基準」 列の値は、「洗面」「シャワー」「台所」「その他」の値の合計であるため、「基準」列は出力しない。"
   ]
  },
  {
   "cell_type": "code",
   "execution_count": 5,
   "metadata": {},
   "outputs": [],
   "source": [
    "#table_DHW_Appendix_F_1 = pd.merge(mts.m_BURU, mts.m_HWU, on='UsageKey').filter(\n",
    "#    items=['UsageKey', 'BuildingName', 'RoomName', 'Standard', 'WashRoom', 'ShowerRoom', 'Kitchen', 'Other', 'Unit', 'Density']\n",
    "#).set_axis(\n",
    "#    labels=['キー', '建物用途', '室用途', '基準', '洗面', 'シャワー', '台所', 'その他', '単位', '密度'], axis=1\n",
    "#)\n",
    "table_DHW_Appendix_F_1 = pd.merge(mts.m_BURU, t, on='UsageKey').filter(\n",
    "    items=['UsageKey', 'BuildingName', 'RoomName', 'WashRoom', 'ShowerRoom', 'Kitchen', 'Other', 'Unit', 'Density']\n",
    ").set_axis(\n",
    "    labels=['用途記号', '建物用途', '室用途', '洗面', 'シャワー', '台所', 'その他', '単位', '人密度'], axis=1\n",
    ").replace({'単位': {'L/人日': 'L / 人 d', 'L/床日': 'L / 床 d', 'L/m2日': 'L / m2 d'}})"
   ]
  },
  {
   "cell_type": "code",
   "execution_count": 6,
   "metadata": {},
   "outputs": [
    {
     "data": {
      "text/html": [
       "<div>\n",
       "<style scoped>\n",
       "    .dataframe tbody tr th:only-of-type {\n",
       "        vertical-align: middle;\n",
       "    }\n",
       "\n",
       "    .dataframe tbody tr th {\n",
       "        vertical-align: top;\n",
       "    }\n",
       "\n",
       "    .dataframe thead th {\n",
       "        text-align: right;\n",
       "    }\n",
       "</style>\n",
       "<table border=\"1\" class=\"dataframe\">\n",
       "  <thead>\n",
       "    <tr style=\"text-align: right;\">\n",
       "      <th></th>\n",
       "      <th>用途記号</th>\n",
       "      <th>建物用途</th>\n",
       "      <th>室用途</th>\n",
       "      <th>洗面</th>\n",
       "      <th>シャワー</th>\n",
       "      <th>台所</th>\n",
       "      <th>その他</th>\n",
       "      <th>単位</th>\n",
       "      <th>人密度</th>\n",
       "    </tr>\n",
       "  </thead>\n",
       "  <tbody>\n",
       "    <tr>\n",
       "      <th>0</th>\n",
       "      <td>O-1</td>\n",
       "      <td>事務所等</td>\n",
       "      <td>事務室</td>\n",
       "      <td>3.8</td>\n",
       "      <td>0.0</td>\n",
       "      <td>0.0</td>\n",
       "      <td>0.0</td>\n",
       "      <td>L / 人 d</td>\n",
       "      <td>0.1</td>\n",
       "    </tr>\n",
       "    <tr>\n",
       "      <th>1</th>\n",
       "      <td>O-2</td>\n",
       "      <td>事務所等</td>\n",
       "      <td>電子計算機器事務室</td>\n",
       "      <td>3.8</td>\n",
       "      <td>0.0</td>\n",
       "      <td>0.0</td>\n",
       "      <td>0.0</td>\n",
       "      <td>L / 人 d</td>\n",
       "      <td>0.1</td>\n",
       "    </tr>\n",
       "    <tr>\n",
       "      <th>2</th>\n",
       "      <td>O-3</td>\n",
       "      <td>事務所等</td>\n",
       "      <td>会議室</td>\n",
       "      <td>3.8</td>\n",
       "      <td>0.0</td>\n",
       "      <td>0.0</td>\n",
       "      <td>0.0</td>\n",
       "      <td>L / 人 d</td>\n",
       "      <td>0.25</td>\n",
       "    </tr>\n",
       "    <tr>\n",
       "      <th>3</th>\n",
       "      <td>O-4</td>\n",
       "      <td>事務所等</td>\n",
       "      <td>喫茶室</td>\n",
       "      <td>0.0</td>\n",
       "      <td>0.0</td>\n",
       "      <td>32.0</td>\n",
       "      <td>0.0</td>\n",
       "      <td>L / m2 d</td>\n",
       "      <td>－</td>\n",
       "    </tr>\n",
       "    <tr>\n",
       "      <th>4</th>\n",
       "      <td>O-5</td>\n",
       "      <td>事務所等</td>\n",
       "      <td>社員食堂</td>\n",
       "      <td>0.0</td>\n",
       "      <td>0.0</td>\n",
       "      <td>48.0</td>\n",
       "      <td>0.0</td>\n",
       "      <td>L / m2 d</td>\n",
       "      <td>－</td>\n",
       "    </tr>\n",
       "  </tbody>\n",
       "</table>\n",
       "</div>"
      ],
      "text/plain": [
       "  用途記号  建物用途        室用途   洗面  シャワー    台所  その他        単位   人密度\n",
       "0  O-1  事務所等        事務室  3.8   0.0   0.0  0.0   L / 人 d   0.1\n",
       "1  O-2  事務所等  電子計算機器事務室  3.8   0.0   0.0  0.0   L / 人 d   0.1\n",
       "2  O-3  事務所等        会議室  3.8   0.0   0.0  0.0   L / 人 d  0.25\n",
       "3  O-4  事務所等        喫茶室  0.0   0.0  32.0  0.0  L / m2 d     －\n",
       "4  O-5  事務所等       社員食堂  0.0   0.0  48.0  0.0  L / m2 d     －"
      ]
     },
     "execution_count": 6,
     "metadata": {},
     "output_type": "execute_result"
    }
   ],
   "source": [
    "table_DHW_Appendix_F_1.head()"
   ]
  },
  {
   "cell_type": "code",
   "execution_count": 7,
   "metadata": {},
   "outputs": [],
   "source": [
    "table_DHW_Appendix_F_1.to_csv('table/table_DHW_Appendix_F_1.csv', encoding='cp932', index=False)"
   ]
  }
 ],
 "metadata": {
  "kernelspec": {
   "display_name": "Python 3",
   "language": "python",
   "name": "python3"
  },
  "language_info": {
   "codemirror_mode": {
    "name": "ipython",
    "version": 3
   },
   "file_extension": ".py",
   "mimetype": "text/x-python",
   "name": "python",
   "nbconvert_exporter": "python",
   "pygments_lexer": "ipython3",
   "version": "3.7.6"
  }
 },
 "nbformat": 4,
 "nbformat_minor": 4
}
