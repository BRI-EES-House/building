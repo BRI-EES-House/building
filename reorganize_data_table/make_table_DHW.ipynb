{
 "cells": [
  {
   "cell_type": "code",
   "execution_count": 1,
   "metadata": {},
   "outputs": [],
   "source": [
    "import pandas as pd"
   ]
  },
  {
   "cell_type": "code",
   "execution_count": 2,
   "metadata": {},
   "outputs": [],
   "source": [
    "from read_master_tables import get_master_tables"
   ]
  },
  {
   "cell_type": "markdown",
   "metadata": {},
   "source": [
    "# 給湯設備"
   ]
  },
  {
   "cell_type": "markdown",
   "metadata": {},
   "source": [
    "## マスタテーブルの読み込み"
   ]
  },
  {
   "cell_type": "code",
   "execution_count": 3,
   "metadata": {},
   "outputs": [],
   "source": [
    "mts = get_master_tables()"
   ]
  },
  {
   "cell_type": "markdown",
   "metadata": {},
   "source": [
    "## 付録F 表1"
   ]
  },
  {
   "cell_type": "code",
   "execution_count": 4,
   "metadata": {},
   "outputs": [],
   "source": [
    "table_DHW_Appendix_F_1 = pd.merge(mts.m_BURU, mts.m_HWU, on='UsageKey').filter(\n",
    "    items=['UsageKey', 'BuildingName', 'RoomName', 'Standard', 'WashRoom', 'ShowerRoom', 'Kitchen', 'Other', 'Unit', 'Density']\n",
    ").set_axis(\n",
    "    labels=['キー', '建物用途', '室用途', '基準', '洗面', 'シャワー', '台所', 'その他', '単位', '密度'], axis=1\n",
    ")"
   ]
  },
  {
   "cell_type": "code",
   "execution_count": 5,
   "metadata": {},
   "outputs": [
    {
     "data": {
      "text/html": [
       "<div>\n",
       "<style scoped>\n",
       "    .dataframe tbody tr th:only-of-type {\n",
       "        vertical-align: middle;\n",
       "    }\n",
       "\n",
       "    .dataframe tbody tr th {\n",
       "        vertical-align: top;\n",
       "    }\n",
       "\n",
       "    .dataframe thead th {\n",
       "        text-align: right;\n",
       "    }\n",
       "</style>\n",
       "<table border=\"1\" class=\"dataframe\">\n",
       "  <thead>\n",
       "    <tr style=\"text-align: right;\">\n",
       "      <th></th>\n",
       "      <th>キー</th>\n",
       "      <th>建物用途</th>\n",
       "      <th>室用途</th>\n",
       "      <th>基準</th>\n",
       "      <th>洗面</th>\n",
       "      <th>シャワー</th>\n",
       "      <th>台所</th>\n",
       "      <th>その他</th>\n",
       "      <th>単位</th>\n",
       "      <th>密度</th>\n",
       "    </tr>\n",
       "  </thead>\n",
       "  <tbody>\n",
       "    <tr>\n",
       "      <th>0</th>\n",
       "      <td>O-1</td>\n",
       "      <td>事務所等</td>\n",
       "      <td>事務室</td>\n",
       "      <td>3.8</td>\n",
       "      <td>3.8</td>\n",
       "      <td>0.0</td>\n",
       "      <td>0.0</td>\n",
       "      <td>0.0</td>\n",
       "      <td>[L/人日]</td>\n",
       "      <td>0.10</td>\n",
       "    </tr>\n",
       "    <tr>\n",
       "      <th>1</th>\n",
       "      <td>O-2</td>\n",
       "      <td>事務所等</td>\n",
       "      <td>電子計算機器事務室</td>\n",
       "      <td>3.8</td>\n",
       "      <td>3.8</td>\n",
       "      <td>0.0</td>\n",
       "      <td>0.0</td>\n",
       "      <td>0.0</td>\n",
       "      <td>[L/人日]</td>\n",
       "      <td>0.10</td>\n",
       "    </tr>\n",
       "    <tr>\n",
       "      <th>2</th>\n",
       "      <td>O-3</td>\n",
       "      <td>事務所等</td>\n",
       "      <td>会議室</td>\n",
       "      <td>3.8</td>\n",
       "      <td>3.8</td>\n",
       "      <td>0.0</td>\n",
       "      <td>0.0</td>\n",
       "      <td>0.0</td>\n",
       "      <td>[L/人日]</td>\n",
       "      <td>0.25</td>\n",
       "    </tr>\n",
       "    <tr>\n",
       "      <th>3</th>\n",
       "      <td>O-4</td>\n",
       "      <td>事務所等</td>\n",
       "      <td>喫茶室</td>\n",
       "      <td>32.0</td>\n",
       "      <td>0.0</td>\n",
       "      <td>0.0</td>\n",
       "      <td>32.0</td>\n",
       "      <td>0.0</td>\n",
       "      <td>[L/m2日]</td>\n",
       "      <td>0.25</td>\n",
       "    </tr>\n",
       "    <tr>\n",
       "      <th>4</th>\n",
       "      <td>O-5</td>\n",
       "      <td>事務所等</td>\n",
       "      <td>社員食堂</td>\n",
       "      <td>48.0</td>\n",
       "      <td>0.0</td>\n",
       "      <td>0.0</td>\n",
       "      <td>48.0</td>\n",
       "      <td>0.0</td>\n",
       "      <td>[L/m2日]</td>\n",
       "      <td>0.50</td>\n",
       "    </tr>\n",
       "  </tbody>\n",
       "</table>\n",
       "</div>"
      ],
      "text/plain": [
       "    キー  建物用途        室用途    基準   洗面  シャワー    台所  その他       単位    密度\n",
       "0  O-1  事務所等        事務室   3.8  3.8   0.0   0.0  0.0   [L/人日]  0.10\n",
       "1  O-2  事務所等  電子計算機器事務室   3.8  3.8   0.0   0.0  0.0   [L/人日]  0.10\n",
       "2  O-3  事務所等        会議室   3.8  3.8   0.0   0.0  0.0   [L/人日]  0.25\n",
       "3  O-4  事務所等        喫茶室  32.0  0.0   0.0  32.0  0.0  [L/m2日]  0.25\n",
       "4  O-5  事務所等       社員食堂  48.0  0.0   0.0  48.0  0.0  [L/m2日]  0.50"
      ]
     },
     "execution_count": 5,
     "metadata": {},
     "output_type": "execute_result"
    }
   ],
   "source": [
    "table_DHW_Appendix_F_1.head()"
   ]
  },
  {
   "cell_type": "code",
   "execution_count": null,
   "metadata": {},
   "outputs": [],
   "source": []
  }
 ],
 "metadata": {
  "kernelspec": {
   "display_name": "Python 3",
   "language": "python",
   "name": "python3"
  },
  "language_info": {
   "codemirror_mode": {
    "name": "ipython",
    "version": 3
   },
   "file_extension": ".py",
   "mimetype": "text/x-python",
   "name": "python",
   "nbconvert_exporter": "python",
   "pygments_lexer": "ipython3",
   "version": "3.7.6"
  }
 },
 "nbformat": 4,
 "nbformat_minor": 4
}
